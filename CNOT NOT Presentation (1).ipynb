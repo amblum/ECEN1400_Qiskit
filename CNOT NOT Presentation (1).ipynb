{
 "cells": [
  {
   "cell_type": "code",
   "execution_count": 142,
   "metadata": {},
   "outputs": [],
   "source": [
    "import matplotlib.pyplot as plt\n",
    "import numpy as np\n",
    "import pandas as pd\n",
    "import matplotlib.image as mpimg\n",
    "\n",
    "from IPython.core.interactiveshell import InteractiveShell\n",
    "InteractiveShell.ast_node_interactivity = \"all\"\n",
    "from IPython import display\n",
    "from pathlib import Path\n",
    "from numpy import random"
   ]
  },
  {
   "cell_type": "markdown",
   "metadata": {},
   "source": [
    "# Qubit Explanation"
   ]
  },
  {
   "cell_type": "markdown",
   "metadata": {},
   "source": [
    "A Qubit is simply a quantum bit. While this may sound like an elegant solution. It conceals a lot of the differentiating factors as such. The most important of these differences likely is found in the super-position element of qubits.\n",
    "\n",
    "In conventional computing a bit is simply a signal in the form of a 1 or 0. Run the code below a few times see this demonstrated."
   ]
  },
  {
   "cell_type": "code",
   "execution_count": 143,
   "metadata": {},
   "outputs": [
    {
     "data": {
      "text/plain": [
       "0"
      ]
     },
     "execution_count": 143,
     "metadata": {},
     "output_type": "execute_result"
    }
   ],
   "source": [
    "def bit(): #demonstrates bit value between 1 and 0\n",
    "    return np.random.randint(2)\n",
    "bit()"
   ]
  },
  {
   "cell_type": "markdown",
   "metadata": {},
   "source": [
    "In qubits, the value when observed will definetly be between 1 and 0, however it will have a probabaility of falling between these 2 options. This is called collapse, and is a useful feature in the right moments."
   ]
  },
  {
   "cell_type": "code",
   "execution_count": 144,
   "metadata": {},
   "outputs": [
    {
     "data": {
      "text/plain": [
       "1"
      ]
     },
     "execution_count": 144,
     "metadata": {},
     "output_type": "execute_result"
    }
   ],
   "source": [
    "def qbit(): #demonstrates qbit with 1/3 chance of being 0\n",
    "    x = np.random.randint(3) #generates a random number between\n",
    "    if (x == 0 or x == 1):\n",
    "        return 1\n",
    "    else:\n",
    "        return 0\n",
    "qbit()"
   ]
  },
  {
   "cell_type": "markdown",
   "metadata": {},
   "source": [
    "While this rudimentary qubit example shows this effect of weighted outcome. The qubit is at any point in a super position between the 2 possible outcomes of 0 or 1. However qubits can also be entangled directly with other qbits, in which when the super-position of 1 collapses, it has an impact on the other."
   ]
  },
  {
   "cell_type": "code",
   "execution_count": 145,
   "metadata": {},
   "outputs": [
    {
     "data": {
      "text/plain": [
       "(1, 0)"
      ]
     },
     "execution_count": 145,
     "metadata": {},
     "output_type": "execute_result"
    }
   ],
   "source": [
    "def entangle(): #demonstrates entanglement\n",
    "    x = qbit()\n",
    "    if (x == 1):\n",
    "        return (x,0)\n",
    "    else:\n",
    "        return (x,1)\n",
    "entangle()"
   ]
  },
  {
   "cell_type": "markdown",
   "metadata": {},
   "source": [
    "As can be seen above the result of entangle and qbit are both weighted to a one third chance of the qbit function returning a 1. However even when it does there is another qubit observed with the opposite value. And are entangled when manipulated together.\n",
    "\n",
    "These probabilities can conveniently be displayed in matrices that dictate the odds of such outcome. These matrixes then can be exoposed to a 'gate', unique mathmatical matrix expressions that transform the input into a different *consistent* output, based on the input.\n",
    "\n",
    "While we are currently referring to Quantum Computing, the concept and implementation of gates is also present in Classical Computation. With the most simple being the NOT gate."
   ]
  },
  {
   "cell_type": "markdown",
   "metadata": {},
   "source": [
    "# NOT and CNOT Gate Explanation"
   ]
  },
  {
   "cell_type": "code",
   "execution_count": 146,
   "metadata": {},
   "outputs": [],
   "source": [
    "def easyLife(x):\n",
    "    y = Path(r\"\\Users\\Aidan\\ECEN1400 Notebook\\MCGates\\%s\"%x)\n",
    "    with open(y,'rb') as f:\n",
    "        z = display.Image(data=f.read(), format='png')\n",
    "    return z"
   ]
  },
  {
   "cell_type": "code",
   "execution_count": 147,
   "metadata": {},
   "outputs": [
    {
     "data": {
      "text/plain": [
       "(0, 1)"
      ]
     },
     "execution_count": 147,
     "metadata": {},
     "output_type": "execute_result"
    }
   ],
   "source": [
    "def NOTscript(x):\n",
    "    if (x > 1 or x < 0):\n",
    "        return print(\"Please enter a Numerical Boolean Value.\")\n",
    "    elif (x == 0):\n",
    "        return 1\n",
    "    elif (x == 1):\n",
    "        return 0\n",
    "x=NOTscript(np.random.randint(2))\n",
    "y=NOTscript(x)\n",
    "(x,y)"
   ]
  },
  {
   "cell_type": "markdown",
   "metadata": {},
   "source": [
    "This function hen called shows that the first value, the input, will always recieve the opposite value when being run through a NOT gate. This can be further demonstrated visually."
   ]
  },
  {
   "cell_type": "code",
   "execution_count": 148,
   "metadata": {},
   "outputs": [],
   "source": [
    "def NOT(x):\n",
    "    if (x > 1 or x < 0):\n",
    "        return print(\"Please enter a Numerical Boolean Value.\")\n",
    "    elif (x == 0):\n",
    "        return easyLife(\"NOT0.gif\")\n",
    "    elif (x == 1):\n",
    "        return easyLife(\"NOT1.gif\")"
   ]
  },
  {
   "cell_type": "code",
   "execution_count": 158,
   "metadata": {
    "scrolled": true
   },
   "outputs": [],
   "source": [
    "#NOT(1)"
   ]
  },
  {
   "cell_type": "code",
   "execution_count": 159,
   "metadata": {
    "scrolled": true
   },
   "outputs": [],
   "source": [
    "#NOT(0)"
   ]
  },
  {
   "cell_type": "markdown",
   "metadata": {},
   "source": [
    "## CNOT Gates"
   ]
  },
  {
   "cell_type": "markdown",
   "metadata": {},
   "source": [
    "When looking at a NOT gate, a critical difference between that of a CNOT gate is the number of inputs. NOT has 1, CNOT has 2. When observing 2 qubits (control,target) a CNOT gate will act to only act as a NOT gate conditionally, if the control wire is 1, then the NOT gate will be activated."
   ]
  },
  {
   "cell_type": "code",
   "execution_count": 151,
   "metadata": {},
   "outputs": [],
   "source": [
    "def CNOTscript(c,t):\n",
    "    if (c == 1 or c == 0 and t == 0 or t == 1):\n",
    "        if (c == 1):\n",
    "            return (c,NOTscript(t))\n",
    "        else:\n",
    "                return (c,t)\n",
    "    else:\n",
    "        return print(\"Please enter a Numerical Boolean Value for control and target wires.\")"
   ]
  },
  {
   "cell_type": "code",
   "execution_count": 152,
   "metadata": {},
   "outputs": [
    {
     "data": {
      "text/plain": [
       "(1, 0)"
      ]
     },
     "execution_count": 152,
     "metadata": {},
     "output_type": "execute_result"
    }
   ],
   "source": [
    "CNOTscript(1,1)"
   ]
  },
  {
   "cell_type": "markdown",
   "metadata": {},
   "source": [
    "When compared to classical computing a CNOT gate is comparable to an XOR gate, which completes a similar task. However a CNOT gate stands far ahead of any XOR gate because of its direct reliance on previous qubits in a computational argument, ones that may be entangled or have different probabilities of falling on one end or another of a super position compared to standard bits of given and consistently known values. Qubits can and will be used to allow for much more effecient, quick, and accurate estimations of large functions that are tedious for even a Classical Computer to work through.\n",
    "\n",
    "We hope that this introduction has begun to unlock some intuition into the impact of quantum computing to be seen by the world."
   ]
  },
  {
   "cell_type": "code",
   "execution_count": 153,
   "metadata": {},
   "outputs": [],
   "source": [
    "def CNOT(c,t):\n",
    "    if (c == 1 or c == 0 and t == 0 or t == 1):\n",
    "        if (c == 1):\n",
    "            if (t == 1):\n",
    "                return easyLife(\"CNOT11.gif\")\n",
    "            else:\n",
    "                return easyLife(\"CNOT10.gif\")\n",
    "        else: \n",
    "            if (t == 1):\n",
    "                return easyLife(\"CNOT01.gif\")\n",
    "            else:\n",
    "                return easyLife(\"CNOT00.gif\")\n",
    "    else:\n",
    "        return print(\"Please enter a Numerical Boolean Value for control and target wires.\")"
   ]
  },
  {
   "cell_type": "code",
   "execution_count": 154,
   "metadata": {
    "scrolled": true
   },
   "outputs": [],
   "source": [
    "#CNOT(0,0)"
   ]
  },
  {
   "cell_type": "code",
   "execution_count": 155,
   "metadata": {
    "scrolled": true
   },
   "outputs": [],
   "source": [
    "#CNOT(0,1)"
   ]
  },
  {
   "cell_type": "code",
   "execution_count": 156,
   "metadata": {
    "scrolled": true
   },
   "outputs": [],
   "source": [
    "#CNOT(1,0)"
   ]
  },
  {
   "cell_type": "code",
   "execution_count": 157,
   "metadata": {
    "scrolled": true
   },
   "outputs": [],
   "source": [
    "#CNOT(1,1)"
   ]
  }
 ],
 "metadata": {
  "kernelspec": {
   "display_name": "Python 3",
   "language": "python",
   "name": "python3"
  },
  "language_info": {
   "codemirror_mode": {
    "name": "ipython",
    "version": 3
   },
   "file_extension": ".py",
   "mimetype": "text/x-python",
   "name": "python",
   "nbconvert_exporter": "python",
   "pygments_lexer": "ipython3",
   "version": "3.8.5"
  }
 },
 "nbformat": 4,
 "nbformat_minor": 4
}
